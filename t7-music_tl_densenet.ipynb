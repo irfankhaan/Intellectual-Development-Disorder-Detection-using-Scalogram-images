{
 "cells": [
  {
   "cell_type": "code",
   "execution_count": null,
   "metadata": {},
   "outputs": [],
   "source": [
    "RANDOM_SEED = 42"
   ]
  },
  {
   "cell_type": "code",
   "execution_count": null,
   "metadata": {},
   "outputs": [],
   "source": [
    "path_ = \"Scalograms-stacked-wavdec\""
   ]
  },
  {
   "cell_type": "code",
   "execution_count": null,
   "metadata": {},
   "outputs": [],
   "source": [
    "import os\n",
    "from tensorflow.keras.preprocessing import image_dataset_from_directory"
   ]
  },
  {
   "cell_type": "code",
   "execution_count": null,
   "metadata": {},
   "outputs": [],
   "source": [
    "#Preparing images for model training --- image size = 256 x 256\n",
    "train_batch = 64\n",
    "test_batch = 64\n",
    "train_set= image_dataset_from_directory(path_,\n",
    "                                labels='inferred',\n",
    "                                label_mode='binary',\n",
    "                                batch_size=train_batch,\n",
    "                                seed=RANDOM_SEED,\n",
    "                                shuffle=True,\n",
    "                                validation_split=0.2,\n",
    "                                subset='training')\n",
    "                                \n",
    "val_set =  image_dataset_from_directory(path_,\n",
    "                                labels='inferred',\n",
    "                                label_mode='binary',\n",
    "                                batch_size=test_batch,\n",
    "                                seed=RANDOM_SEED,\n",
    "                                shuffle=True,\n",
    "                                validation_split=0.2,\n",
    "                                subset='validation')"
   ]
  },
  {
   "cell_type": "code",
   "execution_count": null,
   "metadata": {},
   "outputs": [],
   "source": [
    "test_ds_size = int(int(val_set.__len__())*0.5) # test-test set has 478 images and val set has 1647 images == # 9563 * 0.05\n",
    "test_test_set = val_set.take(test_ds_size)\n",
    "test_set = val_set.skip(test_ds_size)"
   ]
  },
  {
   "cell_type": "code",
   "execution_count": null,
   "metadata": {},
   "outputs": [],
   "source": [
    "print(val_set.__len__(), train_set.__len__(), test_set.__len__(), test_test_set.__len__(), sep='\\n')"
   ]
  },
  {
   "cell_type": "code",
   "execution_count": null,
   "metadata": {},
   "outputs": [],
   "source": [
    "from keras.layers import Dense, Flatten\n",
    "from keras.models import Sequential, Model\n",
    "from keras.callbacks import ModelCheckpoint\n",
    "#from keras.optimizers import gradient_descent_v2 \n",
    "from keras import regularizers, initializers\n",
    "from livelossplot import PlotLossesKeras\n",
    "from tensorflow.keras.applications.densenet import DenseNet121"
   ]
  },
  {
   "cell_type": "code",
   "execution_count": null,
   "metadata": {},
   "outputs": [],
   "source": [
    "densenet = DenseNet121(include_top=False, weights='imagenet', input_shape=(256,256,3))\n",
    "output = densenet.layers[-1].output\n",
    "output = Flatten()(output)\n",
    "densenet = Model(densenet.input, output)\n",
    "for layer in densenet.layers:\n",
    "    layer.trainable = False\n",
    "densenet.summary()"
   ]
  },
  {
   "cell_type": "code",
   "execution_count": null,
   "metadata": {},
   "outputs": [],
   "source": [
    "model_1 = Sequential()\n",
    "\n",
    "model_1.add(densenet)\n",
    "model_1.add(Dense(64,activation='relu', input_dim=(256,256,3),  kernel_initializer=initializers.HeNormal(), kernel_regularizer=regularizers.L2(0.5)))\n",
    "model_1.add(Dense(64,activation='relu', kernel_regularizer=regularizers.L2(0.5)))\n",
    "model_1.add(Dense(1,activation='sigmoid'))\n",
    "\n",
    "model_1.compile(optimizer='adam',loss='binary_crossentropy',metrics=['accuracy','Recall','Precision','AUC'])   "
   ]
  },
  {
   "cell_type": "code",
   "execution_count": null,
   "metadata": {},
   "outputs": [],
   "source": [
    "root_path = \"Models/music-scalograms-TL-densenet-checkpoints/\"\n",
    "filepath = root_path + 'music-scalograms-TL-l2-5-densenet-model-t1.h5'\n",
    "\n",
    "k=2\n",
    "if not os.path.exists(root_path): os.makedirs(root_path)\n",
    "else: \n",
    "    while(os.path.exists(filepath)): \n",
    "        filepath = filepath[:-4] + str(k) + '.h5' \n",
    "        k = k+1\n",
    "\n",
    "callbacks = [#EarlyStopping(monitor='val_accuracy', patience=4),\n",
    "            ModelCheckpoint(filepath=filepath, monitor=\"val_accuracy\", mode='max', save_best_only=True),\n",
    "            PlotLossesKeras()]"
   ]
  },
  {
   "cell_type": "code",
   "execution_count": null,
   "metadata": {},
   "outputs": [],
   "source": [
    "h = model_1.fit(train_set,\n",
    "                epochs=25,\n",
    "                #steps_per_epoch=64,\n",
    "                validation_data=test_set,\n",
    "                #validation_steps=32,\n",
    "                callbacks=callbacks\n",
    "                )"
   ]
  },
  {
   "cell_type": "code",
   "execution_count": null,
   "metadata": {},
   "outputs": [],
   "source": [
    "import pandas as pd\n",
    "\n",
    "pd.DataFrame.from_dict(h.history).to_csv(filepath[:-2] + 'csv' , index=False)\n",
    "#data=pd.read_csv(\"Models/scalogram-base-model-checkpoints/scalogram-base-model-1.csv\")"
   ]
  },
  {
   "cell_type": "code",
   "execution_count": null,
   "metadata": {},
   "outputs": [],
   "source": [
    "model_1.evaluate(test_test_set)"
   ]
  }
 ],
 "metadata": {
  "kernelspec": {
   "display_name": "Python 3.9.7 ('tensorflow-gpu')",
   "language": "python",
   "name": "python3"
  },
  "language_info": {
   "codemirror_mode": {
    "name": "ipython",
    "version": 3
   },
   "file_extension": ".py",
   "mimetype": "text/x-python",
   "name": "python",
   "nbconvert_exporter": "python",
   "pygments_lexer": "ipython3",
   "version": "3.9.7"
  },
  "orig_nbformat": 4,
  "vscode": {
   "interpreter": {
    "hash": "efb29f29dfabb56190f8cf72ce38b33e8592a7bd383bbfc4d3bde940ec847c1e"
   }
  }
 },
 "nbformat": 4,
 "nbformat_minor": 2
}
