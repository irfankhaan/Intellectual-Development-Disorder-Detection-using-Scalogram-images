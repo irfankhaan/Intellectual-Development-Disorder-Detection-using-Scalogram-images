{
 "cells": [
  {
   "cell_type": "code",
   "execution_count": 1,
   "metadata": {},
   "outputs": [
    {
     "name": "stderr",
     "output_type": "stream",
     "text": [
      "d:\\Tools\\Anaconda\\envs\\tensorflow-gpu\\lib\\site-packages\\numpy\\_distributor_init.py:30: UserWarning: loaded more than 1 DLL from .libs:\n",
      "d:\\Tools\\Anaconda\\envs\\tensorflow-gpu\\lib\\site-packages\\numpy\\.libs\\libopenblas.EL2C6PLE4ZYW3ECEVIV3OXXGRN2NRFM2.gfortran-win_amd64.dll\n",
      "d:\\Tools\\Anaconda\\envs\\tensorflow-gpu\\lib\\site-packages\\numpy\\.libs\\libopenblas.GK7GX5KEQ4F6UYO3P26ULGBQYHGQO7J4.gfortran-win_amd64.dll\n",
      "d:\\Tools\\Anaconda\\envs\\tensorflow-gpu\\lib\\site-packages\\numpy\\.libs\\libopenblas.WCDJNK7YVMPZQ2ME2ZZHJJRJ3JIKNDB7.gfortran-win_amd64.dll\n",
      "d:\\Tools\\Anaconda\\envs\\tensorflow-gpu\\lib\\site-packages\\numpy\\.libs\\libopenblas.XWYDX2IKJW2NMTWSFYNGFUWKQU3LYTCZ.gfortran-win_amd64.dll\n",
      "  warnings.warn(\"loaded more than 1 DLL from .libs:\"\n"
     ]
    }
   ],
   "source": [
    "import scipy.io\n",
    "from glob import glob\n",
    "import numpy as np\n",
    "from tqdm import tqdm\n",
    "import pywt\n",
    "from ssqueezepy import cwt, ssq_cwt, wavelets\n",
    "import matplotlib.pyplot as plt\n",
    "%matplotlib qt"
   ]
  },
  {
   "cell_type": "markdown",
   "metadata": {
    "colab_type": "text",
    "id": "1WMR9LX94lsw"
   },
   "source": [
    "### Load data"
   ]
  },
  {
   "cell_type": "code",
   "execution_count": 2,
   "metadata": {
    "colab": {},
    "colab_type": "code",
    "id": "RybFcg5_48w1"
   },
   "outputs": [],
   "source": [
    "IDD='Data/OriginalData/CleanData/CleanData_IDD'\n",
    "TDC='Data/OriginalData/CleanData/CleanData_TDC'"
   ]
  },
  {
   "cell_type": "code",
   "execution_count": 4,
   "metadata": {
    "colab": {},
    "colab_type": "code",
    "id": "i1JpzDx15kBD"
   },
   "outputs": [],
   "source": [
    "#!rm '/content/Data/Data/CleanData/Data/Data/CleanData/CleanData_IDD/Rest/NDS001_Rest_CD(1).mat'"
   ]
  },
  {
   "cell_type": "code",
   "execution_count": 3,
   "metadata": {
    "colab": {},
    "colab_type": "code",
    "id": "4VI66v8B5Lj0"
   },
   "outputs": [],
   "source": [
    "IDD_rest=[]\n",
    "for i in glob(IDD+'/Music/*.mat'):\n",
    "    data=scipy.io.loadmat(i)['clean_data'].reshape(14,-1,128)\n",
    "    data=np.swapaxes(data,0,1)\n",
    "    IDD_rest.append(data )\n",
    "\n",
    "TDC_rest=[]\n",
    "for i in glob(TDC+'/Music/*.mat'):\n",
    "    data=scipy.io.loadmat(i)['clean_data'].reshape(14,-1,128)\n",
    "    data=np.swapaxes(data,0,1)\n",
    "    TDC_rest.append(data )"
   ]
  },
  {
   "cell_type": "code",
   "execution_count": 4,
   "metadata": {},
   "outputs": [
    {
     "name": "stdout",
     "output_type": "stream",
     "text": [
      "7 7\n"
     ]
    }
   ],
   "source": [
    "print(len(IDD_rest), len(TDC_rest))"
   ]
  },
  {
   "cell_type": "markdown",
   "metadata": {},
   "source": [
    "### Scalogram generation using wavelet decompositon"
   ]
  },
  {
   "cell_type": "code",
   "execution_count": 10,
   "metadata": {},
   "outputs": [],
   "source": [
    "# plt.ioff()\n",
    "# save_img = \"Scalograms/IDD/\"\n",
    "# wavelet = wavelets.Wavelet(('morlet', {'mu': 5}))\n",
    "# k = 0\n",
    "\n",
    "# for IDD in range(len(IDD_rest)):\n",
    "#     for iter in range(IDD_rest[IDD].shape[0]):\n",
    "#         coefs = pywt.wavedec(IDD_rest[IDD][iter], wavelet='db4', level=1)\n",
    "#         epoch_toplot = np.mean(np.squeeze(coefs[0]),0)     # For multiple channels\n",
    "#         _, Wx, *_ = ssq_cwt(epoch_toplot, wavelet=wavelet)\n",
    "#         plt.figure()        #creating a plt figure object\n",
    "#         ax = plt.axes()     #calling axis method\n",
    "#         ax.set_axis_off()   #removing axis marking from the plot\n",
    "#         plt.imshow(np.abs(Wx),  cmap='jet', aspect=\"auto\")\n",
    "#         plt.savefig(save_img + 'IDD' + str(k) + '.jpg',transparent=True,pad_inches=0,bbox_inches='tight')\n",
    "#         plt.close()\n",
    "#         k=k+1"
   ]
  },
  {
   "cell_type": "code",
   "execution_count": 9,
   "metadata": {},
   "outputs": [],
   "source": [
    "# plt.ioff()\n",
    "# save_img = \"Scalograms/TDC/\"\n",
    "# wavelet = wavelets.Wavelet(('morlet', {'mu': 5}))\n",
    "# k = 0\n",
    "\n",
    "# for IDD in range(len(TDC_rest)):\n",
    "#     for iter in range(TDC_rest[IDD].shape[0]):\n",
    "#         coefs = pywt.wavedec(TDC_rest[IDD][iter], wavelet='db4', level=1)\n",
    "#         epoch_toplot = np.mean(np.squeeze(coefs[0]),0)     # For multiple channels\n",
    "#         _, Wx, *_ = ssq_cwt(epoch_toplot, wavelet=wavelet)\n",
    "#         plt.figure()        #creating a plt figure object\n",
    "#         ax = plt.axes()     #calling axis method\n",
    "#         ax.set_axis_off()   #removing axis marking from the plot\n",
    "#         plt.imshow(np.abs(Wx),  cmap='jet', aspect=\"auto\")\n",
    "#         plt.savefig(save_img + 'TDC' + str(k) + '.jpg',transparent=True,pad_inches=0,bbox_inches='tight')\n",
    "#         plt.close()\n",
    "#         k=k+1"
   ]
  },
  {
   "cell_type": "markdown",
   "metadata": {},
   "source": [
    "### Stacked scalograms using wavelet decomposition"
   ]
  },
  {
   "cell_type": "code",
   "execution_count": 7,
   "metadata": {},
   "outputs": [],
   "source": [
    "# plt.ioff()\n",
    "# save_img = \"Scalograms-stacked-wavdec/IDD/\"\n",
    "# wavelet = wavelets.Wavelet(('morlet', {'mu': 5}))\n",
    "# fs = 128\n",
    "# k = 0\n",
    "\n",
    "# for IDD in range(len(IDD_rest)):\n",
    "#     for iter in range(IDD_rest[IDD].shape[0]):\n",
    "#         coefs = pywt.wavedec(IDD_rest[IDD][iter], wavelet='db4', level=1)\n",
    "#         Wx_stacked = []\n",
    "#         for coef in coefs[0]:\n",
    "#             _, Wx, *_ = ssq_cwt(coef, wavelet=wavelet, fs=fs)\n",
    "#             Wx_stacked.append(Wx)\n",
    "#         Wx_stacked = np.asarray(Wx_stacked)\n",
    "#         Wx_stacked = np.reshape(Wx_stacked, newshape=(-1,67))\n",
    "#         plt.figure()        #creating a plt figure object\n",
    "#         ax = plt.axes()     #calling axis method\n",
    "#         ax.set_axis_off()   #removing axis marking from the plot\n",
    "#         plt.imshow(np.abs(Wx_stacked),  cmap='jet', aspect=\"auto\")\n",
    "#         plt.savefig(save_img + 'IDD-' + str(k) + '.jpg',transparent=True,pad_inches=0,bbox_inches='tight')\n",
    "#         plt.close()\n",
    "#         k=k+1"
   ]
  },
  {
   "cell_type": "code",
   "execution_count": 8,
   "metadata": {},
   "outputs": [],
   "source": [
    "# plt.ioff()\n",
    "# save_img = \"Scalograms-stacked-wavdec/TDC/\"\n",
    "# wavelet = wavelets.Wavelet(('morlet', {'mu': 5}))\n",
    "# fs = 128\n",
    "# k = 0\n",
    "\n",
    "# for IDD in range(len(TDC_rest)):\n",
    "#     for iter in range(TDC_rest[IDD].shape[0]):\n",
    "#         coefs = pywt.wavedec(TDC_rest[IDD][iter], wavelet='db4', level=1)\n",
    "#         Wx_stacked = []\n",
    "#         for coef in coefs[0]:\n",
    "#             _, Wx, *_ = ssq_cwt(coef, wavelet=wavelet, fs=fs)\n",
    "#             Wx_stacked.append(Wx)\n",
    "#         Wx_stacked = np.asarray(Wx_stacked)\n",
    "#         Wx_stacked = np.reshape(Wx_stacked, newshape=(-1,67))\n",
    "#         plt.figure()        #creating a plt figure object\n",
    "#         ax = plt.axes()     #calling axis method\n",
    "#         ax.set_axis_off()   #removing axis marking from the plot\n",
    "#         plt.imshow(np.abs(Wx_stacked),  cmap='jet', aspect=\"auto\")\n",
    "#         plt.savefig(save_img + 'TDC-' + str(k) + '.jpg',transparent=True,pad_inches=0,bbox_inches='tight')\n",
    "#         plt.close()\n",
    "#         k=k+1"
   ]
  },
  {
   "cell_type": "markdown",
   "metadata": {},
   "source": [
    "### Plotting"
   ]
  },
  {
   "cell_type": "code",
   "execution_count": 8,
   "metadata": {},
   "outputs": [
    {
     "data": {
      "text/plain": [
       "(14, 128)"
      ]
     },
     "execution_count": 8,
     "metadata": {},
     "output_type": "execute_result"
    }
   ],
   "source": [
    "IDD_rest[0][0].shape"
   ]
  },
  {
   "cell_type": "code",
   "execution_count": 13,
   "metadata": {},
   "outputs": [
    {
     "data": {
      "text/plain": [
       "(1, 67)"
      ]
     },
     "execution_count": 13,
     "metadata": {},
     "output_type": "execute_result"
    }
   ],
   "source": [
    "coefs[0][0:1].shape"
   ]
  },
  {
   "cell_type": "code",
   "execution_count": 34,
   "metadata": {},
   "outputs": [],
   "source": [
    "wavelet = wavelets.Wavelet(('morlet', {'mu': 5}))\n",
    "fs = 128\n",
    "k = 0\n",
    "\n",
    "for IDD in range(1):\n",
    "    for iter in range(1):\n",
    "        coefs = pywt.wavedec(IDD_rest[IDD][iter], wavelet='db4', level=1)\n",
    "        Wx_stacked = []\n",
    "        for coef in coefs[0][0:1]:\n",
    "            Tx, Wx, ssq_freqs, scales = ssq_cwt(coef, wavelet=wavelet, fs=fs)\n",
    "            Wx_stacked.append(Wx)\n",
    "        Wx_stacked = np.asarray(Wx_stacked)\n",
    "        Wx_stacked = np.reshape(Wx_stacked, newshape=(-1,67))\n",
    "        plt.figure()        #creating a plt figure object\n",
    "        #ax = plt.axes()     #calling axis method\n",
    "        #ax.set_axis_off()   #removing axis marking from the plot\n",
    "        plt.imshow(np.abs(Wx_stacked),  cmap='jet', aspect=\"auto\")\n",
    "        #plt.close()\n",
    "        k=k+1"
   ]
  },
  {
   "cell_type": "code",
   "execution_count": 35,
   "metadata": {},
   "outputs": [],
   "source": [
    "t = np.linspace(0, 1, 67)"
   ]
  },
  {
   "cell_type": "code",
   "execution_count": 36,
   "metadata": {},
   "outputs": [
    {
     "name": "stdout",
     "output_type": "stream",
     "text": [
      "(170, 67) (170, 67) (170,) (170, 1) (67, 1)\n"
     ]
    }
   ],
   "source": [
    "print(Tx.shape, Wx.shape, ssq_freqs.shape, scales[:, None].shape, t[:, None].shape)"
   ]
  },
  {
   "cell_type": "code",
   "execution_count": 43,
   "metadata": {},
   "outputs": [
    {
     "data": {
      "text/plain": [
       "(67,)"
      ]
     },
     "execution_count": 43,
     "metadata": {},
     "output_type": "execute_result"
    }
   ],
   "source": [
    "coef.shape"
   ]
  },
  {
   "cell_type": "code",
   "execution_count": 47,
   "metadata": {},
   "outputs": [],
   "source": [
    "%%capture\n",
    "\n",
    "plt.figure(1)\n",
    "plt.plot(coef)\n",
    "\n",
    "plt.figure(2)\n",
    "plt.psd(coef)"
   ]
  },
  {
   "cell_type": "code",
   "execution_count": 39,
   "metadata": {},
   "outputs": [],
   "source": [
    "#f, t, Sxx = signal.spectrogram(mysignal, fs, nperseg=nperseg,noverlap=noverlap)\n",
    "\n",
    "#myfilter = (f>800) & (f<1200)\n",
    "\n",
    "#f = f[myfilter]\n",
    "#Sxx = Sxx[myfilter, ...]\n",
    "\n",
    "fig = plt.figure()\n",
    "ax = fig.gca(projection='3d')\n",
    "\n",
    "ax.plot_surface(scales[:, None], np.transpose(t[:, None]), 10.0*(np.abs(Wx)), cmap=\"jet\")\n",
    "ax.set_xlabel('Frequency (in Hz)')\n",
    "ax.set_ylabel('Time (in Seconds)')\n",
    "ax.set_zlabel('Power (in dB)')\n",
    "#ax.plot_surface(np.transpose(t[:, None]),Sxx[:, None],10.0*np.log(f), cmap=\"jet\")\n",
    "#ax.plot_surface(fe[:, None],te[None, :],spe)\n",
    "plt.title(\"gnsz\")\n",
    "plt.show()"
   ]
  },
  {
   "cell_type": "markdown",
   "metadata": {},
   "source": [
    "### Misc testing"
   ]
  },
  {
   "cell_type": "code",
   "execution_count": 19,
   "metadata": {},
   "outputs": [],
   "source": [
    "### Stacked scalogram test without wavdec\n",
    "#plt.ioff()\n",
    "save_img = \"Scalograms-stacked/IDD/\"\n",
    "wavelet = wavelets.Wavelet(('morlet', {'mu': 5}))\n",
    "k = 0\n",
    "fs = 128\n",
    "\n",
    "for IDD in range(1):\n",
    "    for iter in range(1):\n",
    "        #coefs = pywt.wavedec(IDD_rest[IDD][iter], wavelet='db4', level=1)\n",
    "        Wx_stacked = []\n",
    "        for coef in IDD_rest[IDD][iter]:\n",
    "        #for coef in coefs[0]:\n",
    "            _, Wx, *_ = ssq_cwt(coef, wavelet=wavelet, fs=fs)\n",
    "            k=k+1\n",
    "            Wx_stacked.append(Wx)"
   ]
  },
  {
   "cell_type": "code",
   "execution_count": 41,
   "metadata": {},
   "outputs": [],
   "source": [
    "### Stacked scalogram test with wavdec\n",
    "#plt.ioff()\n",
    "save_img = \"Scalograms-stacked-wavdec/IDD/\"\n",
    "wavelet = wavelets.Wavelet(('morlet', {'mu': 5}))\n",
    "k = 0\n",
    "fs = 128\n",
    "\n",
    "for IDD in range(1):\n",
    "    for iter in range(1):\n",
    "        coefs = pywt.wavedec(IDD_rest[IDD][iter], wavelet='db4', level=1)\n",
    "        Wx_stacked = []\n",
    "        for coef in coefs[0]:\n",
    "            _, Wx, *_ = ssq_cwt(coef, wavelet=wavelet, fs=fs)\n",
    "            k=k+1\n",
    "            Wx_stacked.append(Wx)"
   ]
  },
  {
   "cell_type": "code",
   "execution_count": 42,
   "metadata": {},
   "outputs": [],
   "source": [
    "arr = np.asarray(Wx_stacked)"
   ]
  },
  {
   "cell_type": "code",
   "execution_count": 45,
   "metadata": {},
   "outputs": [
    {
     "name": "stdout",
     "output_type": "stream",
     "text": [
      "(14, 128) 14 (14, 170, 67) (170, 67)\n"
     ]
    }
   ],
   "source": [
    "print(IDD_rest[IDD][iter].shape, len(Wx_stacked), arr.shape, Wx.shape)"
   ]
  },
  {
   "cell_type": "code",
   "execution_count": 36,
   "metadata": {},
   "outputs": [],
   "source": [
    "new_arr = np.reshape(arr, newshape=(-1,Wx.shape[-1]))"
   ]
  },
  {
   "cell_type": "code",
   "execution_count": 37,
   "metadata": {},
   "outputs": [
    {
     "name": "stdout",
     "output_type": "stream",
     "text": [
      "True True True True True True True True True True True True True True "
     ]
    }
   ],
   "source": [
    "### Comparison test\n",
    "\n",
    "k = arr.shape[1]\n",
    "for i in range(arr.shape[0]):\n",
    "    print(np.array_equal(arr[i], new_arr[i*k:(i+1)*k,:]), end=\" \")"
   ]
  },
  {
   "cell_type": "code",
   "execution_count": 24,
   "metadata": {},
   "outputs": [
    {
     "name": "stdout",
     "output_type": "stream",
     "text": [
      "(14, 203, 128) (2842, 128)\n"
     ]
    }
   ],
   "source": [
    "print(arr.shape, new_arr.shape)"
   ]
  },
  {
   "cell_type": "code",
   "execution_count": 46,
   "metadata": {},
   "outputs": [
    {
     "data": {
      "text/plain": [
       "<matplotlib.image.AxesImage at 0x193af5e1b20>"
      ]
     },
     "execution_count": 46,
     "metadata": {},
     "output_type": "execute_result"
    }
   ],
   "source": [
    "plt.imshow(np.abs(new_arr), cmap='jet', aspect=\"auto\")"
   ]
  },
  {
   "cell_type": "markdown",
   "metadata": {},
   "source": [
    "### Comparison"
   ]
  },
  {
   "cell_type": "code",
   "execution_count": null,
   "metadata": {},
   "outputs": [],
   "source": [
    "# IDD_rest_f=[]\n",
    "# for i in glob(IDD+'/Music/*.mat'):\n",
    "#     data=scipy.io.loadmat(i)['clean_data'].reshape(14,-1,128*4)\n",
    "#     data=np.swapaxes(data,0,1)\n",
    "#     IDD_rest_f.append(data )\n",
    "\n",
    "# TDC_rest_f=[]\n",
    "# for i in glob(TDC+'/Music/*.mat'):\n",
    "#     data=scipy.io.loadmat(i)['clean_data'].reshape(14,-1,128*4)\n",
    "#     data=np.swapaxes(data,0,1)\n",
    "#     TDC_rest_f.append(data )"
   ]
  },
  {
   "cell_type": "code",
   "execution_count": null,
   "metadata": {},
   "outputs": [
    {
     "name": "stdout",
     "output_type": "stream",
     "text": [
      "7 7\n"
     ]
    }
   ],
   "source": [
    "# print(len(IDD_rest_f), len(TDC_rest_f))"
   ]
  },
  {
   "cell_type": "code",
   "execution_count": 13,
   "metadata": {},
   "outputs": [
    {
     "name": "stdout",
     "output_type": "stream",
     "text": [
      "(120, 14, 128) (30, 14, 512)\n"
     ]
    }
   ],
   "source": [
    "# print(IDD_rest[0].shape,IDD_rest_f[0].shape)"
   ]
  },
  {
   "cell_type": "code",
   "execution_count": 15,
   "metadata": {},
   "outputs": [
    {
     "data": {
      "text/plain": [
       "(14, 512)"
      ]
     },
     "execution_count": 15,
     "metadata": {},
     "output_type": "execute_result"
    }
   ],
   "source": [
    "# IDD_rest_f[0][0].shape"
   ]
  },
  {
   "cell_type": "code",
   "execution_count": 18,
   "metadata": {},
   "outputs": [],
   "source": [
    "# plt.ioff()\n",
    "# save_img = \"Scalograms-full/IDD/\"\n",
    "# wavelet = wavelets.Wavelet(('morlet', {'mu': 5}))\n",
    "# k = 0\n",
    "\n",
    "# for IDD in range(len(IDD_rest_f)):\n",
    "#     for iter in range(IDD_rest_f[IDD].shape[0]):\n",
    "#         for part in range(4):\n",
    "#             coefs = pywt.wavedec(IDD_rest_f[IDD][iter][:,part*128:(part+1)*128], wavelet='db4', level=1)\n",
    "#             epoch_toplot = np.mean(np.squeeze(coefs[0]),0)     # For multiple channels\n",
    "#             _, Wx, *_ = ssq_cwt(epoch_toplot, wavelet=wavelet)\n",
    "#             plt.figure()        #creating a plt figure object\n",
    "#             ax = plt.axes()     #calling axis method\n",
    "#             ax.set_axis_off()   #removing axis marking from the plot\n",
    "#             plt.imshow(np.abs(Wx),  cmap='jet', aspect=\"auto\")\n",
    "#             plt.savefig(save_img + 'IDD' + str(k) + '.jpg',transparent=True,pad_inches=0,bbox_inches='tight')\n",
    "#             plt.close()\n",
    "#             k=k+1"
   ]
  }
 ],
 "metadata": {
  "interpreter": {
   "hash": "efb29f29dfabb56190f8cf72ce38b33e8592a7bd383bbfc4d3bde940ec847c1e"
  },
  "kernelspec": {
   "display_name": "Python 3.9.7 ('tensorflow-gpu')",
   "language": "python",
   "name": "python3"
  },
  "language_info": {
   "codemirror_mode": {
    "name": "ipython",
    "version": 3
   },
   "file_extension": ".py",
   "mimetype": "text/x-python",
   "name": "python",
   "nbconvert_exporter": "python",
   "pygments_lexer": "ipython3",
   "version": "3.9.7"
  },
  "orig_nbformat": 4
 },
 "nbformat": 4,
 "nbformat_minor": 2
}
