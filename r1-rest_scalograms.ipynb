{
 "cells": [
  {
   "cell_type": "code",
   "execution_count": 1,
   "metadata": {},
   "outputs": [
    {
     "name": "stderr",
     "output_type": "stream",
     "text": [
      "d:\\Tools\\Anaconda\\envs\\tensorflow-gpu\\lib\\site-packages\\numpy\\_distributor_init.py:30: UserWarning: loaded more than 1 DLL from .libs:\n",
      "d:\\Tools\\Anaconda\\envs\\tensorflow-gpu\\lib\\site-packages\\numpy\\.libs\\libopenblas.EL2C6PLE4ZYW3ECEVIV3OXXGRN2NRFM2.gfortran-win_amd64.dll\n",
      "d:\\Tools\\Anaconda\\envs\\tensorflow-gpu\\lib\\site-packages\\numpy\\.libs\\libopenblas.GK7GX5KEQ4F6UYO3P26ULGBQYHGQO7J4.gfortran-win_amd64.dll\n",
      "d:\\Tools\\Anaconda\\envs\\tensorflow-gpu\\lib\\site-packages\\numpy\\.libs\\libopenblas.WCDJNK7YVMPZQ2ME2ZZHJJRJ3JIKNDB7.gfortran-win_amd64.dll\n",
      "d:\\Tools\\Anaconda\\envs\\tensorflow-gpu\\lib\\site-packages\\numpy\\.libs\\libopenblas.XWYDX2IKJW2NMTWSFYNGFUWKQU3LYTCZ.gfortran-win_amd64.dll\n",
      "  warnings.warn(\"loaded more than 1 DLL from .libs:\"\n"
     ]
    }
   ],
   "source": [
    "import scipy.io\n",
    "from glob import glob\n",
    "import numpy as np\n",
    "from tqdm import tqdm\n",
    "import pywt\n",
    "from ssqueezepy import cwt, ssq_cwt, wavelets\n",
    "import matplotlib.pyplot as plt\n",
    "%matplotlib qt"
   ]
  },
  {
   "cell_type": "markdown",
   "metadata": {
    "colab_type": "text",
    "id": "1WMR9LX94lsw"
   },
   "source": [
    "### Load data"
   ]
  },
  {
   "cell_type": "code",
   "execution_count": 2,
   "metadata": {
    "colab": {},
    "colab_type": "code",
    "id": "RybFcg5_48w1"
   },
   "outputs": [],
   "source": [
    "IDD='Data/OriginalData/CleanData/CleanData_IDD'\n",
    "TDC='Data/OriginalData/CleanData/CleanData_TDC'"
   ]
  },
  {
   "cell_type": "code",
   "execution_count": 3,
   "metadata": {
    "colab": {},
    "colab_type": "code",
    "id": "i1JpzDx15kBD"
   },
   "outputs": [],
   "source": [
    "#!rm '/content/Data/Data/CleanData/Data/Data/CleanData/CleanData_IDD/Rest/NDS001_Rest_CD(1).mat'"
   ]
  },
  {
   "cell_type": "code",
   "execution_count": 4,
   "metadata": {
    "colab": {},
    "colab_type": "code",
    "id": "4VI66v8B5Lj0"
   },
   "outputs": [],
   "source": [
    "IDD_rest=[]\n",
    "for i in glob(IDD+'/Rest/*.mat'):\n",
    "    data=scipy.io.loadmat(i)['clean_data'].reshape(14,-1,128)\n",
    "    data=np.swapaxes(data,0,1)\n",
    "    IDD_rest.append(data )\n",
    "\n",
    "TDC_rest=[]\n",
    "for i in glob(TDC+'/Rest/*.mat'):\n",
    "    data=scipy.io.loadmat(i)['clean_data'].reshape(14,-1,128)\n",
    "    data=np.swapaxes(data,0,1)\n",
    "    TDC_rest.append(data )"
   ]
  },
  {
   "cell_type": "code",
   "execution_count": 5,
   "metadata": {},
   "outputs": [
    {
     "name": "stdout",
     "output_type": "stream",
     "text": [
      "7 7\n"
     ]
    }
   ],
   "source": [
    "print(len(IDD_rest), len(TDC_rest))"
   ]
  },
  {
   "cell_type": "code",
   "execution_count": 6,
   "metadata": {},
   "outputs": [
    {
     "data": {
      "text/plain": [
       "(120, 14, 128)"
      ]
     },
     "execution_count": 6,
     "metadata": {},
     "output_type": "execute_result"
    }
   ],
   "source": [
    "IDD_rest[0].shape"
   ]
  },
  {
   "cell_type": "markdown",
   "metadata": {},
   "source": [
    "### Scalogram generation using wavelet decompositon"
   ]
  },
  {
   "cell_type": "code",
   "execution_count": null,
   "metadata": {},
   "outputs": [],
   "source": [
    "# plt.ioff()\n",
    "# save_img = \"Scalograms/IDD/\"\n",
    "# wavelet = wavelets.Wavelet(('morlet', {'mu': 5}))\n",
    "# k = 0\n",
    "\n",
    "# for IDD in range(len(IDD_rest)):\n",
    "#     for iter in range(IDD_rest[IDD].shape[0]):\n",
    "#         coefs = pywt.wavedec(IDD_rest[IDD][iter], wavelet='db4', level=1)\n",
    "#         epoch_toplot = np.mean(np.squeeze(coefs[0]),0)     # For multiple channels\n",
    "#         _, Wx, *_ = ssq_cwt(epoch_toplot, wavelet=wavelet)\n",
    "#         plt.figure()        #creating a plt figure object\n",
    "#         ax = plt.axes()     #calling axis method\n",
    "#         ax.set_axis_off()   #removing axis marking from the plot\n",
    "#         plt.imshow(np.abs(Wx),  cmap='jet', aspect=\"auto\")\n",
    "#         plt.savefig(save_img + 'IDD' + str(k) + '.jpg',transparent=True,pad_inches=0,bbox_inches='tight')\n",
    "#         plt.close()\n",
    "#         k=k+1"
   ]
  },
  {
   "cell_type": "code",
   "execution_count": null,
   "metadata": {},
   "outputs": [],
   "source": [
    "# plt.ioff()\n",
    "# save_img = \"Scalograms/TDC/\"\n",
    "# wavelet = wavelets.Wavelet(('morlet', {'mu': 5}))\n",
    "# k = 0\n",
    "\n",
    "# for IDD in range(len(TDC_rest)):\n",
    "#     for iter in range(TDC_rest[IDD].shape[0]):\n",
    "#         coefs = pywt.wavedec(TDC_rest[IDD][iter], wavelet='db4', level=1)\n",
    "#         epoch_toplot = np.mean(np.squeeze(coefs[0]),0)     # For multiple channels\n",
    "#         _, Wx, *_ = ssq_cwt(epoch_toplot, wavelet=wavelet)\n",
    "#         plt.figure()        #creating a plt figure object\n",
    "#         ax = plt.axes()     #calling axis method\n",
    "#         ax.set_axis_off()   #removing axis marking from the plot\n",
    "#         plt.imshow(np.abs(Wx),  cmap='jet', aspect=\"auto\")\n",
    "#         plt.savefig(save_img + 'TDC' + str(k) + '.jpg',transparent=True,pad_inches=0,bbox_inches='tight')\n",
    "#         plt.close()\n",
    "#         k=k+1"
   ]
  },
  {
   "cell_type": "markdown",
   "metadata": {},
   "source": [
    "### Stacked scalograms using wavelet decomposition"
   ]
  },
  {
   "cell_type": "code",
   "execution_count": 7,
   "metadata": {},
   "outputs": [],
   "source": [
    "plt.ioff()\n",
    "save_img = \"Scalograms-rest-stacked-wavdec/IDD/\"\n",
    "wavelet = wavelets.Wavelet(('morlet', {'mu': 5}))\n",
    "fs = 128\n",
    "k = 0\n",
    "\n",
    "for IDD in range(len(IDD_rest)):\n",
    "    for iter in range(IDD_rest[IDD].shape[0]):\n",
    "        coefs = pywt.wavedec(IDD_rest[IDD][iter], wavelet='db4', level=1)\n",
    "        Wx_stacked = []\n",
    "        for coef in coefs[0]:\n",
    "            _, Wx, *_ = ssq_cwt(coef, wavelet=wavelet, fs=fs)\n",
    "            Wx_stacked.append(Wx)\n",
    "        Wx_stacked = np.asarray(Wx_stacked)\n",
    "        Wx_stacked = np.reshape(Wx_stacked, newshape=(-1,67))\n",
    "        plt.figure()        #creating a plt figure object\n",
    "        ax = plt.axes()     #calling axis method\n",
    "        ax.set_axis_off()   #removing axis marking from the plot\n",
    "        plt.imshow(np.abs(Wx_stacked),  cmap='jet', aspect=\"auto\")\n",
    "        plt.savefig(save_img + 'IDD-' + str(k) + '.jpg',transparent=True,pad_inches=0,bbox_inches='tight')\n",
    "        plt.close()\n",
    "        k=k+1"
   ]
  },
  {
   "cell_type": "code",
   "execution_count": null,
   "metadata": {},
   "outputs": [],
   "source": [
    "plt.ioff()\n",
    "save_img = \"Scalograms-rest-stacked-wavdec/TDC/\"\n",
    "wavelet = wavelets.Wavelet(('morlet', {'mu': 5}))\n",
    "fs = 128\n",
    "k = 0\n",
    "\n",
    "for IDD in range(len(TDC_rest)):\n",
    "    for iter in range(TDC_rest[IDD].shape[0]):\n",
    "        coefs = pywt.wavedec(TDC_rest[IDD][iter], wavelet='db4', level=1)\n",
    "        Wx_stacked = []\n",
    "        for coef in coefs[0]:\n",
    "            _, Wx, *_ = ssq_cwt(coef, wavelet=wavelet, fs=fs)\n",
    "            Wx_stacked.append(Wx)\n",
    "        Wx_stacked = np.asarray(Wx_stacked)\n",
    "        Wx_stacked = np.reshape(Wx_stacked, newshape=(-1,67))\n",
    "        plt.figure()        #creating a plt figure object\n",
    "        ax = plt.axes()     #calling axis method\n",
    "        ax.set_axis_off()   #removing axis marking from the plot\n",
    "        plt.imshow(np.abs(Wx_stacked),  cmap='jet', aspect=\"auto\")\n",
    "        plt.savefig(save_img + 'TDC-' + str(k) + '.jpg',transparent=True,pad_inches=0,bbox_inches='tight')\n",
    "        plt.close()\n",
    "        k=k+1"
   ]
  },
  {
   "cell_type": "code",
   "execution_count": null,
   "metadata": {},
   "outputs": [],
   "source": []
  }
 ],
 "metadata": {
  "kernelspec": {
   "display_name": "Python 3.9.7 ('tensorflow-gpu')",
   "language": "python",
   "name": "python3"
  },
  "language_info": {
   "codemirror_mode": {
    "name": "ipython",
    "version": 3
   },
   "file_extension": ".py",
   "mimetype": "text/x-python",
   "name": "python",
   "nbconvert_exporter": "python",
   "pygments_lexer": "ipython3",
   "version": "3.9.7"
  },
  "orig_nbformat": 4,
  "vscode": {
   "interpreter": {
    "hash": "efb29f29dfabb56190f8cf72ce38b33e8592a7bd383bbfc4d3bde940ec847c1e"
   }
  }
 },
 "nbformat": 4,
 "nbformat_minor": 2
}
